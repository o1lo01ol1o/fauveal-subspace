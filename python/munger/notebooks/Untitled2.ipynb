{
 "cells": [
  {
   "cell_type": "code",
   "execution_count": 30,
   "id": "8b52fa29-5e91-4264-acf8-8278931ef813",
   "metadata": {},
   "outputs": [],
   "source": [
    "from eth_account.messages import encode_defunct, defunct_hash_message, _hash_eip191_message\n",
    "from eth_account import Account\n",
    "from eth_utils.curried import to_hex, to_bytes, to_text\n",
    "from hexbytes import HexBytes"
   ]
  },
  {
   "cell_type": "code",
   "execution_count": 46,
   "id": "8b8c6b30-35d0-4b22-b27a-76e0d33c281b",
   "metadata": {},
   "outputs": [],
   "source": [
    "#msg = \"I♥SF\"\n",
    "msg = \"t\"\n",
    "msghash = encode_defunct(text=msg)\n",
    "oldHash = defunct_hash_message(text=msg)"
   ]
  },
  {
   "cell_type": "code",
   "execution_count": 47,
   "id": "caf24a56-5623-410a-ac31-0736dbe67279",
   "metadata": {},
   "outputs": [
    {
     "data": {
      "text/plain": [
       "SignableMessage(version=b'E', header=b'thereum Signed Message:\\n1', body=b't')"
      ]
     },
     "execution_count": 47,
     "metadata": {},
     "output_type": "execute_result"
    }
   ],
   "source": [
    "msghash"
   ]
  },
  {
   "cell_type": "code",
   "execution_count": 48,
   "id": "f6b4cdb1-fe39-43b1-bdf1-4a73d63bc5f1",
   "metadata": {},
   "outputs": [],
   "source": [
    "key = \"0xb25c7db31feed9122727bf0939dc769a96564b2de4c4726d035b36ecf1e5b364\""
   ]
  },
  {
   "cell_type": "code",
   "execution_count": 49,
   "id": "1c5bfe8a-baa7-4791-a90a-6496c36b9091",
   "metadata": {},
   "outputs": [
    {
     "data": {
      "text/plain": [
       "SignedMessage(messageHash=HexBytes('0x88a28fdbdfde5c2947f606bc5783fe08876a8a8d144a25fcca3cd530e2cda88b'), r=33514062146927914198260292512705213168322936001057665045078461018676053595761, s=33406351497919445498695073490593068727427695574658911350943439647962592100587, v=28, signature=HexBytes('0x4a1849767fc2128951e1e714c99cb5901294210f21f57cce523dec015896d67149db532c7b288e8fab993107b8f34d61b5f5cc623b7b60f4e2d92487d3a2c0eb1c'))"
      ]
     },
     "execution_count": 49,
     "metadata": {},
     "output_type": "execute_result"
    }
   ],
   "source": [
    "Account.sign_message(msghash, key)"
   ]
  },
  {
   "cell_type": "code",
   "execution_count": null,
   "id": "70c7f0d4-ac58-4e12-8246-fa113447e070",
   "metadata": {},
   "outputs": [],
   "source": []
  },
  {
   "cell_type": "code",
   "execution_count": null,
   "id": "3cb3fd3c-dbe4-460b-9d74-88fcdeb6f230",
   "metadata": {},
   "outputs": [],
   "source": []
  }
 ],
 "metadata": {
  "kernelspec": {
   "display_name": "Python 3",
   "language": "python",
   "name": "python3"
  },
  "language_info": {
   "codemirror_mode": {
    "name": "ipython",
    "version": 3
   },
   "file_extension": ".py",
   "mimetype": "text/x-python",
   "name": "python",
   "nbconvert_exporter": "python",
   "pygments_lexer": "ipython3",
   "version": "3.8.9"
  }
 },
 "nbformat": 4,
 "nbformat_minor": 5
}
