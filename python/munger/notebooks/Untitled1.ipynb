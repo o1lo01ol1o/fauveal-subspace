{
 "cells": [
  {
   "cell_type": "code",
   "execution_count": 2,
   "id": "43e82f47-086d-4c48-89ae-279b0953bddb",
   "metadata": {},
   "outputs": [
    {
     "name": "stdout",
     "output_type": "stream",
     "text": [
      "Message: Message for ECDSA signing\n",
      "Message Hash: 0x6b3778a64f2675f3f76bf9f35af1fc673759ed17aed86dd56ca36c2bfd7eb0f9\n",
      "Private key: 0xdac8b558f7a5087bafdcb143fcae35b7a3ea2129f71b92c501db5c5b2910b6d6\n",
      "Signature: r=0xd70674d172eaa90d28de04dd2a5d3ec8e9cba5a10125f5942d40872e7fbf82df, s=0xdaf362493b4d750248bdda7a63be29973f7ea84cc883d064aeca6edb50002ac\n",
      "\n",
      "Message: Message for ECDSA signing\n",
      "Public key: (0xe5b9d1790a1800abb596d5b68cd547a18e0d870a04ef0a5329f522b86c41185a, 0xcceac26a08f98a44f4bb14a088e3cd5b7a5194681d20c0fef34cba2e10fb4bbf)\n",
      "Signature valid? True\n",
      "\n",
      "Message: Tampered message\n",
      "Signature (tampered msg) valid? False\n"
     ]
    }
   ],
   "source": [
    "from pycoin.ecdsa import generator_secp256k1, sign, verify\n",
    "import hashlib, secrets\n",
    "\n",
    "def sha3_256Hash(msg):\n",
    "  hashBytes = hashlib.sha3_256(msg.encode(\"utf8\")).digest()\n",
    "  return int.from_bytes(hashBytes, byteorder=\"big\")\n",
    "\n",
    "def signECDSAsecp256k1(msg, privKey):\n",
    "  msgHash = sha3_256Hash(msg)\n",
    "  signature = sign(generator_secp256k1, privKey, msgHash)\n",
    "  return signature\n",
    "\n",
    "def verifyECDSAsecp256k1(msg, signature, pubKey):\n",
    "  msgHash = sha3_256Hash(msg)\n",
    "  valid = verify(generator_secp256k1, pubKey, msgHash, signature)\n",
    "  return valid\n",
    "\n",
    "# ECDSA sign message (using the curve secp256k1 + SHA3-256)\n",
    "msg = \"Message for ECDSA signing\"\n",
    "msgHash = sha3_256Hash(msg)\n",
    "privKey = secrets.randbelow(generator_secp256k1.order())\n",
    "signature = signECDSAsecp256k1(msg, privKey)\n",
    "print(\"Message:\", msg)\n",
    "print(\"Message Hash:\", hex(msgHash))\n",
    "print(\"Private key:\", hex(privKey))\n",
    "print(\"Signature: r=\" + hex(signature[0]) + \", s=\" + hex(signature[1]))\n",
    "\n",
    "# ECDSA verify signature (using the curve secp256k1 + SHA3-256)\n",
    "pubKey = (generator_secp256k1 * privKey).pair()\n",
    "valid = verifyECDSAsecp256k1(msg, signature, pubKey)\n",
    "print(\"\\nMessage:\", msg)\n",
    "print(\"Public key: (\" + hex(pubKey[0]) + \", \" + hex(pubKey[1]) + \")\")\n",
    "print(\"Signature valid?\", valid)\n",
    "\n",
    "# ECDSA verify tampered signature (using the curve secp256k1 + SHA3-256)\n",
    "msg = \"Tampered message\"\n",
    "valid = verifyECDSAsecp256k1(msg, signature, pubKey)\n",
    "print(\"\\nMessage:\", msg)\n",
    "print(\"Signature (tampered msg) valid?\", valid)"
   ]
  },
  {
   "cell_type": "code",
   "execution_count": null,
   "id": "a2498c81-b14b-4534-852c-7f4a20b43644",
   "metadata": {},
   "outputs": [],
   "source": []
  }
 ],
 "metadata": {
  "kernelspec": {
   "display_name": "Python 3",
   "language": "python",
   "name": "python3"
  },
  "language_info": {
   "codemirror_mode": {
    "name": "ipython",
    "version": 3
   },
   "file_extension": ".py",
   "mimetype": "text/x-python",
   "name": "python",
   "nbconvert_exporter": "python",
   "pygments_lexer": "ipython3",
   "version": "3.8.9"
  }
 },
 "nbformat": 4,
 "nbformat_minor": 5
}
