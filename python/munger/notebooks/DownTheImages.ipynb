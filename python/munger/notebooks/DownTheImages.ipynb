{
 "cells": [
  {
   "cell_type": "code",
   "execution_count": 12,
   "id": "69198d33-37f5-400c-b785-f27ce599a8a1",
   "metadata": {},
   "outputs": [],
   "source": [
    "import re\n",
    "import requests\n",
    "from bs4 import BeautifulSoup\n",
    "from operator import attrgetter\n",
    "src_getter = attrgetter('src')"
   ]
  },
  {
   "cell_type": "code",
   "execution_count": 23,
   "id": "70cd2114-4830-4ce9-9ff4-5a85d6d4010a",
   "metadata": {},
   "outputs": [
    {
     "name": "stdout",
     "output_type": "stream",
     "text": [
      "Regex didn't match with the url: https://uploads3.wikiart.org/00134/images/henri-matisse/the-green-line-1905.jpeg\n",
      "Regex didn't match with the url: https://uploads1.wikiart.org/images/henri-matisse/a-bunch-of-flowers-1907(1).jpg\n",
      "Regex didn't match with the url: https://uploads6.wikiart.org/00323/images/magnus-enckell/enckell-magnus-portrait-of-emmy-frosterus.JPG\n",
      "Regex didn't match with the url: https://uploads8.wikiart.org/images/janos-mattis-teutsch/landscape-1917(1).jpg\n",
      "Regex didn't match with the url: https://uploads8.wikiart.org/images/janos-mattis-teutsch/landscape-1918(1).jpg\n",
      "Regex didn't match with the url: https://uploads8.wikiart.org/images/paul-klee/hammamet-with-mosque-1914(1).jpg\n"
     ]
    }
   ],
   "source": [
    "site = '/Users/timpierson/arity/fauveal-subspace/python/munger/notebooks/wikiArt.html'\n",
    "\n",
    "\n",
    "with open (site, 'r') as f:\n",
    "    soup = BeautifulSoup(f, 'html.parser')\n",
    "    img_tags = soup.find_all('img')\n",
    "\n",
    "urls = []\n",
    "for img in img_tags:\n",
    "    try:\n",
    "        urls.append(img['src'])\n",
    "    except:\n",
    "        pass\n",
    "    \n",
    "urls = [url.split(\"!\")[0] for url in urls]\n",
    "        \n",
    "# urls = [img['src'] for img in img_tags if \"src\" in img]\n",
    "\n",
    "for url in urls:\n",
    "    filename = re.search(r'/([\\w_-]+[.](jpg|gif|png))$', url)\n",
    "    if not filename:\n",
    "         print(\"Regex didn't match with the url: {}\".format(url))\n",
    "         continue\n",
    "    with open(\"./images/\" + filename.group(1), 'wb') as f:\n",
    "        if 'http' not in url:\n",
    "            # sometimes an image source can be relative \n",
    "            # if it is provide the base url which also happens \n",
    "            # to be the site variable atm. \n",
    "            url = '{}{}'.format(site, url)\n",
    "        response = requests.get(url)\n",
    "        f.write(response.content)"
   ]
  },
  {
   "cell_type": "code",
   "execution_count": null,
   "id": "37b82566-b66c-4a11-aed5-3ff8479aa3f4",
   "metadata": {},
   "outputs": [],
   "source": []
  }
 ],
 "metadata": {
  "kernelspec": {
   "display_name": "Python 3",
   "language": "python",
   "name": "python3"
  },
  "language_info": {
   "codemirror_mode": {
    "name": "ipython",
    "version": 3
   },
   "file_extension": ".py",
   "mimetype": "text/x-python",
   "name": "python",
   "nbconvert_exporter": "python",
   "pygments_lexer": "ipython3",
   "version": "3.8.9"
  }
 },
 "nbformat": 4,
 "nbformat_minor": 5
}
